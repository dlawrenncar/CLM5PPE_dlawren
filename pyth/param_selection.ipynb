{
 "cells": [
  {
   "cell_type": "code",
   "execution_count": 2,
   "id": "10d023b9-81d4-4a50-bc7d-6b198b171c94",
   "metadata": {},
   "outputs": [],
   "source": [
    "import numpy as np\n",
    "import pandas as pd\n",
    "import xarray as xr\n",
    "import glob\n",
    "import matplotlib\n",
    "import matplotlib.pyplot as plt\n",
    "import cftime\n",
    "import dask\n",
    "import statsmodels.api as sm"
   ]
  },
  {
   "cell_type": "code",
   "execution_count": 3,
   "id": "7cac7a58-ef33-49e4-9f3d-cca6c7f97f09",
   "metadata": {},
   "outputs": [],
   "source": [
    "# Updated for PBS scheduler\n",
    "# this could go into utils.\n",
    "# By default gets 1 core w/ 25 GB memory\n",
    "def get_ClusterClient(ncores=1, nmem='25GB'):\n",
    "    import dask\n",
    "    from dask_jobqueue import PBSCluster\n",
    "    from dask.distributed import Client\n",
    "    ncores=ncores\n",
    "    nmem = nmem\n",
    "\n",
    "    cluster = PBSCluster(\n",
    "        cores=ncores, # The number of cores you want\n",
    "        memory=nmem, # Amount of memory\n",
    "        processes=ncores, # How many processes\n",
    "        queue='casper', # The type of queue to utilize (/glade/u/apps/dav/opt/usr/bin/execcasper)\n",
    "        resource_spec='select=1:ncpus='+str(ncores)+':mem='+nmem, # Specify resources\n",
    "        project='P93300641', # Input your project ID here\n",
    "        walltime='4:00:00', # Amount of wall time\n",
    "        interface='ib0', # Interface to use\n",
    "    )\n",
    "\n",
    "    client = Client(cluster)\n",
    "    return cluster, client"
   ]
  },
  {
   "cell_type": "code",
   "execution_count": 4,
   "id": "4d2aae54-4033-4045-9998-739faa063800",
   "metadata": {},
   "outputs": [
    {
     "name": "stderr",
     "output_type": "stream",
     "text": [
      "/glade/work/djk2120/miniconda3/envs/lens-py/lib/python3.7/site-packages/distributed/node.py:155: UserWarning: Port 8787 is already in use.\n",
      "Perhaps you already have a cluster running?\n",
      "Hosting the HTTP server on port 40262 instead\n",
      "  http_address[\"port\"], self.http_server.port\n"
     ]
    }
   ],
   "source": [
    "cluster, client = get_ClusterClient()\n",
    "cluster.scale(20)"
   ]
  },
  {
   "cell_type": "code",
   "execution_count": 11,
   "id": "4a6b65d3-1703-45cb-be4c-f344edb24dcb",
   "metadata": {},
   "outputs": [
    {
     "data": {
      "text/html": [
       "<table style=\"border: 2px solid white;\">\n",
       "<tr>\n",
       "<td style=\"vertical-align: top; border: 0px solid white\">\n",
       "<h3 style=\"text-align: left;\">Client</h3>\n",
       "<ul style=\"text-align: left; list-style: none; margin: 0; padding: 0;\">\n",
       "  <li><b>Scheduler: </b>tcp://10.12.206.54:35525</li>\n",
       "  <li><b>Dashboard: </b><a href='https://https://jupyterhub.hpc.ucar.edu/stable/user/djk2120/proxy/{port}/status' target='_blank'>https://https://jupyterhub.hpc.ucar.edu/stable/user/djk2120/proxy/{port}/status</a></li>\n",
       "</ul>\n",
       "</td>\n",
       "<td style=\"vertical-align: top; border: 0px solid white\">\n",
       "<h3 style=\"text-align: left;\">Cluster</h3>\n",
       "<ul style=\"text-align: left; list-style:none; margin: 0; padding: 0;\">\n",
       "  <li><b>Workers: </b>20</li>\n",
       "  <li><b>Cores: </b>20</li>\n",
       "  <li><b>Memory: </b>500.00 GB</li>\n",
       "</ul>\n",
       "</td>\n",
       "</tr>\n",
       "</table>"
      ],
      "text/plain": [
       "<Client: 'tcp://10.12.206.54:35525' processes=20 threads=20, memory=500.00 GB>"
      ]
     },
     "execution_count": 11,
     "metadata": {},
     "output_type": "execute_result"
    }
   ],
   "source": [
    "client"
   ]
  },
  {
   "cell_type": "code",
   "execution_count": 12,
   "id": "180d6d02-828b-4a11-bcd4-4c1c9f72b3c0",
   "metadata": {},
   "outputs": [],
   "source": [
    "def get_params(keys,paramkey):\n",
    "    params=[]\n",
    "    minmaxs=[]\n",
    "    for key in keys:\n",
    "        ix     = paramkey.key==key\n",
    "        params.append(paramkey.param[ix].values[0])\n",
    "        minmaxs.append(paramkey.minmax[ix].values[0])\n",
    "    return params,minmaxs"
   ]
  },
  {
   "cell_type": "code",
   "execution_count": 13,
   "id": "919d7419-c832-43f2-abf2-0828984b5d80",
   "metadata": {},
   "outputs": [],
   "source": [
    "def month_wts(nyears):\n",
    "    days_pm  = [31,28,31,30,31,30,31,31,30,31,30,31]\n",
    "    return xr.DataArray(np.tile(days_pm,nyears),dims='time')"
   ]
  },
  {
   "cell_type": "code",
   "execution_count": 14,
   "id": "db373501-870f-491b-a4fd-dac8833e3490",
   "metadata": {},
   "outputs": [],
   "source": [
    "def get_ensemble(name,data_vars,htape,keys,paramkey):\n",
    "    '''\n",
    "    Returns a dataset comprising the given ensemble\n",
    "    name  = 'CTL2020' or 'C285' or 'AF1905'\n",
    "    data_vars, e.g. ['GPP','HR','AR']\n",
    "    htape, e.g. 'h0' 0/1/2/3/4/5/7 available\n",
    "    '''\n",
    "    \n",
    "    #define the directory structure and find files\n",
    "    topdir     = '/glade/scratch/djk2120/PPEn11/hist/' \n",
    "    thisdir    = topdir+name+'/'\n",
    "    files      = [glob.glob(thisdir+'*'+key+'*'+htape+'*.nc')[0] for key in keys]\n",
    "\n",
    "    def preprocess(ds):\n",
    "        return ds[data_vars]\n",
    "\n",
    "    #read in the dataset\n",
    "    ds = xr.open_mfdataset(files,combine='nested',concat_dim='ens',\n",
    "                           parallel=True,preprocess=preprocess)\n",
    "\n",
    "    #fix up time dimension\n",
    "    if htape=='h0':\n",
    "        ds['time'] = xr.cftime_range(str(2005),periods=120,freq='MS') #fix time bug\n",
    "    \n",
    "    #add in some extra variables\n",
    "    ds0 = xr.open_dataset(files[0])\n",
    "    extras = ['grid1d_lat','grid1d_lon']\n",
    "    for extra in extras:\n",
    "        ds[extra]=ds0[extra]\n",
    "\n",
    "    #append some info about key/param/minmax\n",
    "    params,minmaxs = get_params(keys,paramkey) \n",
    "    ds['key']    = xr.DataArray(keys,dims='ens')\n",
    "    ds['param']  = xr.DataArray(params,dims='ens')\n",
    "    ds['minmax'] = xr.DataArray(minmaxs,dims='ens')\n",
    "    \n",
    "    return ds"
   ]
  },
  {
   "cell_type": "markdown",
   "id": "316c2b7b-ff7f-45b6-a3d3-611c0b0dc0d7",
   "metadata": {},
   "source": [
    "### CTL2010"
   ]
  },
  {
   "cell_type": "code",
   "execution_count": 15,
   "id": "37f043d6-f0b4-4a2b-9f31-c7382196e318",
   "metadata": {},
   "outputs": [],
   "source": [
    "#fetch the paraminfo\n",
    "csv = '/glade/scratch/djk2120/PPEn11/firstpass.csv' \n",
    "paramkey = pd.read_csv(csv)\n",
    "\n",
    "#fetch the sparsegrid landarea\n",
    "la_file = '/glade/scratch/djk2120/PPEn08/sparsegrid_landarea.nc'\n",
    "la = xr.open_dataset(la_file).landarea  #km2"
   ]
  },
  {
   "cell_type": "code",
   "execution_count": 16,
   "id": "88c35d4c-46ef-429b-a76e-c3aed43e83bd",
   "metadata": {},
   "outputs": [],
   "source": [
    "#choose your subset of variables\n",
    "data_vars = ['GPP','NPP','NBP','AR','HR','EFLX_LH_TOT','FCTR','FAREA_BURNED',\n",
    "             'TOTVEGC','TOTSOMC_1m','FCEV','FGEV','COL_FIRE_CLOSS','QHR','ALTMAX',\n",
    "             'TWS','SOILWATER_10CM','SNOWDP','TV','TSOI_10CM','TLAI','FSR','FSH']\n",
    "keys = paramkey.key\n",
    "#read in the dataset\n",
    "ds = get_ensemble('CTL2010',data_vars,'h0',keys,paramkey)"
   ]
  },
  {
   "cell_type": "code",
   "execution_count": 17,
   "id": "9d896df7-de87-4d03-8de9-33aefba940ac",
   "metadata": {},
   "outputs": [],
   "source": [
    "uniques = np.unique(ds.param)\n",
    "ix = uniques=='default'\n",
    "uniques = uniques[~ix]"
   ]
  },
  {
   "cell_type": "code",
   "execution_count": 27,
   "id": "7c732e27-c66c-466f-964c-30a14dbe337c",
   "metadata": {},
   "outputs": [],
   "source": [
    "def find_pair(da,params,minmax,p):\n",
    "    '''\n",
    "    returns a subset of da, corresponding to parameter-p\n",
    "        the returned pair corresponds to [p_min,p_max]\n",
    "    '''\n",
    "    ixmin = np.logical_and(params==p,minmax=='min')\n",
    "    ixmax = np.logical_and(params==p,minmax=='max')\n",
    "    \n",
    "    #sub in default if either is missing\n",
    "    if ixmin.sum().values==0:\n",
    "        ixmin = params=='default'\n",
    "    if ixmax.sum().values==0:\n",
    "        ixmax = params=='default'\n",
    "        \n",
    "    emin = da.ens.isel(ens=ixmin).values[0]\n",
    "    emax = da.ens.isel(ens=ixmax).values[0]\n",
    "\n",
    "    return da.sel(ens=[emin,emax])\n",
    "    "
   ]
  },
  {
   "cell_type": "code",
   "execution_count": 57,
   "id": "e2558066-7ef8-4e4a-813a-7bb63831416f",
   "metadata": {},
   "outputs": [],
   "source": [
    "def top_n(da,nx,params,minmax,uniques):\n",
    "    xmins=[];xmaxs=[];dxs=[]\n",
    "    for u in uniques:\n",
    "        pair  = find_pair(da,params,minmax,u)\n",
    "        xmin  = pair[0].values\n",
    "        xmax  = pair[1].values\n",
    "        dx    = abs(xmax-xmin)\n",
    "\n",
    "        xmins.append(xmin)\n",
    "        xmaxs.append(xmax)\n",
    "        dxs.append(dx)\n",
    "\n",
    "    ranks = np.argsort(dxs)\n",
    "\n",
    "    pvals = [uniques[ranks[i]] for i in range(-nx,0)]\n",
    "    xmins = [xmins[ranks[i]]   for i in range(-nx,0)]\n",
    "    xmaxs = [xmaxs[ranks[i]]   for i in range(-nx,0)]\n",
    "    \n",
    "    return xmins,xmaxs,pvals"
   ]
  },
  {
   "cell_type": "code",
   "execution_count": 89,
   "id": "fad2fc04-03ad-4317-b1b3-f5984ff81b64",
   "metadata": {},
   "outputs": [],
   "source": [
    "cfs = dict()\n",
    "units = dict()\n",
    "\n",
    "#fluxes [summed, extensive variable]\n",
    "for field in ['GPP','HR','AR','NPP','NBP','COL_FIRE_CLOSS']:\n",
    "    cfs[field]   = 1e-9*24*60*60\n",
    "    units[field] = 'PgC/yr'\n",
    "for field in ['FCTR','FCEV','FGEV','EFLX_LH_TOT']:\n",
    "    cfs[field]   = 1/2.5e6*1e-9*24*60*60\n",
    "    units[field] = 'TtH2O/yr'\n",
    "for field in ['QHR','QVEGT']:\n",
    "    cfs[field]   = 1e-9*24*60*60\n",
    "    units[field] = 'TtH2O/yr'\n",
    "    \n",
    "#FAREA [summed, extensive variable]\n",
    "cfs['FAREA_BURNED']=24*60*60/1e6\n",
    "units['FAREA_BURNED']='1e6km2'\n",
    "    \n",
    "#pools [averaged, extensive variable]\n",
    "for field in ['TWS','SOILWATER_10CM']:\n",
    "    cfs[field]   = 1e-9/365\n",
    "    units[field] = 'TtH2O'\n",
    "for field in ['TOTVEGC','TOTSOMC_1m']:\n",
    "    cfs[field]   = 1e-9/365\n",
    "    units[field] = 'PgC'\n",
    "    \n",
    "#intensives (need to account for landarea)\n",
    "lasum = la.sum().values\n",
    "for field in ['SNOWDP','TV','TSOI_10CM','TLAI','FSR','FSH']:\n",
    "    cfs[field]   = 1/la.sum()/365\n",
    "    units[field] = ds[field].attrs['units']\n",
    "    \n",
    "#ALT\n",
    "field='ALTMAX'\n",
    "cfs[field]=1/lasum\n",
    "units[field] = ds[field].attrs['units']"
   ]
  },
  {
   "cell_type": "code",
   "execution_count": 58,
   "id": "71bcb54c-3722-4a26-a789-48d7af865a15",
   "metadata": {},
   "outputs": [],
   "source": [
    "def calc_mean(ds,datavar):\n",
    "    cf = cfs[datavar]\n",
    "    x  = ds[datavar]\n",
    "    \n",
    "    da_ann  = cf*(month_wts(10)*(la*x).sum(dim='gridcell')).groupby('time.year').sum().compute()\n",
    "    da_mean = da_ann.mean(dim='year') \n",
    "    \n",
    "    return da_mean,da_ann"
   ]
  },
  {
   "cell_type": "code",
   "execution_count": 62,
   "id": "9a05f39c-387a-451b-adbf-6300a0739d4c",
   "metadata": {},
   "outputs": [],
   "source": [
    "def calc_iav(ds,datavar,da_ann=[]):\n",
    "    #compute da_ann if not provided\n",
    "    if len(da_ann)==0:\n",
    "        cf = cfs[datavar]\n",
    "        x  = ds[datavar]\n",
    "        da_ann  = cf*(month_wts(10)*(la*x).sum(dim='gridcell')).groupby('time.year').sum().compute()\n",
    "    da_iav = da_ann.std(dim='year')\n",
    "    return da_iav\n",
    "        "
   ]
  },
  {
   "cell_type": "code",
   "execution_count": 71,
   "id": "a1b70955-ba3b-4a69-853b-106a96431e87",
   "metadata": {},
   "outputs": [],
   "source": [
    "def calc_alt(ds):\n",
    "    cf   = cfs['ALTMAX']\n",
    "    ix   = ds.ALTMAX.isel(ens=0).mean(dim='time')<10\n",
    "    xann = cf*(la*ds.ALTMAX.where(ix).groupby('time.year').max()).sum(dim='gridcell').compute()\n",
    "    xm   = xann.mean(dim='year')\n",
    "    xi   = xann.std(dim='year')\n",
    "    return xm,xi"
   ]
  },
  {
   "cell_type": "code",
   "execution_count": 85,
   "id": "f1ca68ad-dcd4-48a5-a98e-608d92be8ec0",
   "metadata": {},
   "outputs": [],
   "source": [
    "def plot20(datavar,xdef,xmins,xmaxs,pvals,op,unit):\n",
    "    nx = len(pvals)\n",
    "    plt.plot([xdef,xdef],[0,nx-1],'k:',label='default')\n",
    "    plt.scatter(xmins,range(nx),marker='o',facecolors='none', edgecolors='r',label='low-val')\n",
    "    plt.plot(xmaxs,range(nx),'ro',label='high-val')\n",
    "    plt.legend()\n",
    "    i=-1\n",
    "    for xmin,xmax in zip(xmins,xmaxs):\n",
    "        i+=1\n",
    "        plt.plot([xmin,xmax],[i,i],'r')\n",
    "    plt.yticks(range(nx),pvals)\n",
    "    plt.title(datavar+'_'+op)\n",
    "    plt.xlabel(datavar+'_'+op+' ('+unit+')');"
   ]
  },
  {
   "cell_type": "code",
   "execution_count": 94,
   "id": "978c9855-0c1f-4125-91c9-d90c5757eb48",
   "metadata": {},
   "outputs": [],
   "source": [
    "def twoplots(ds,datavar,xm,xi,uniques):\n",
    "    plt.subplot(121)\n",
    "    xdef  = xm.isel(ens=0)\n",
    "    xmins,xmaxs,pm = top_n(xm,nx,ds.param,ds.minmax,uniques)\n",
    "    plot20(datavar,xdef,xmins,xmaxs,pm,'mean',units[datavar])\n",
    "\n",
    "    plt.subplot(122)\n",
    "    xdef  = xi.isel(ens=0)\n",
    "    xmins,xmaxs,pi = top_n(xi,nx,ds.param,ds.minmax,uniques)\n",
    "    plot20(datavar,xdef,xmins,xmaxs,pi,'IAV',units[datavar])\n",
    "\n",
    "\n",
    "    plt.subplots_adjust(wspace=0.8)\n",
    "    plt.subplots_adjust(left=0.22) \n",
    "\n",
    "    ln =ds[datavar].attrs['long_name'].capitalize()\n",
    "    if len(ln)<100:\n",
    "        plt.figtext(0.562,0.95,ln,fontsize=12,ha='center')\n",
    "    else:\n",
    "        i = int(len(ln)/2)\n",
    "        ln1 = ln[:i]\n",
    "        ln2 = ln[i:]\n",
    "        plt.figtext(0.562,0.98,ln1,fontsize=12,ha='center')\n",
    "        plt.figtext(0.562,0.94,ln2,fontsize=12,ha='center')\n",
    "        \n",
    "    return pm,pi\n"
   ]
  },
  {
   "cell_type": "code",
   "execution_count": null,
   "id": "13f4580f-cf96-46b3-89ba-3cbc6a2d04ee",
   "metadata": {},
   "outputs": [
    {
     "name": "stdout",
     "output_type": "stream",
     "text": [
      "GPP\n",
      "NPP\n",
      "NBP\n",
      "AR\n",
      "HR\n",
      "EFLX_LH_TOT\n",
      "FCTR\n",
      "FAREA_BURNED\n",
      "TOTVEGC\n",
      "TOTSOMC_1m\n",
      "FCEV\n",
      "FGEV\n",
      "COL_FIRE_CLOSS\n",
      "QHR\n",
      "ALTMAX\n",
      "TWS\n",
      "SOILWATER_10CM\n",
      "SNOWDP\n",
      "TV\n",
      "TSOI_10CM\n",
      "TLAI\n",
      "FSR\n",
      "FSH\n"
     ]
    }
   ],
   "source": [
    "cts      = {u:0 for u in uniques}\n",
    "ct_means = {u:0 for u in uniques}\n",
    "ct_iavs  = {u:0 for u in uniques}\n",
    "\n",
    "for datavar in data_vars:\n",
    "    print(datavar)\n",
    "    if datavar=='ALTMAX':\n",
    "        xm,xi = calc_alt(ds)\n",
    "    else:\n",
    "        xm,xa = calc_mean(ds,datavar)\n",
    "        xi    = calc_iav(0,0,xa)\n",
    "\n",
    "    plt.figure(figsize=[8,8])\n",
    "    pm,pi = twoplots(ds,datavar,xm,xi,uniques)\n",
    "    #plt.savefig('../figs/'+datavar+'_top20.pdf')\n",
    "    plt.close(\"all\")\n",
    "    \n",
    "    for p in pm:\n",
    "        cts[p]+=1\n",
    "        ct_means[p]+=1\n",
    "\n",
    "    for p in pi:\n",
    "        cts[p]+=1\n",
    "        ct_iavs[p]+=1\n"
   ]
  },
  {
   "cell_type": "code",
   "execution_count": 131,
   "id": "f7bd8cd4-afc0-42ea-b5f2-9126593098f5",
   "metadata": {},
   "outputs": [],
   "source": [
    "pcts=sorted(cts.items(), key=lambda item: item[1])\n",
    "pvals=[];ct0=[];ct1=[]\n",
    "for p,x in pcts:\n",
    "    \n",
    "    if x==0:\n",
    "        pvals.append(p)\n",
    "        ct0.append(ct_means[p])\n",
    "        ct1.append(ct_iavs[p])\n",
    "    else:\n",
    "        pvals.insert(0,p)\n",
    "        ct0.insert(0,ct_means[p])\n",
    "        ct1.insert(0,ct_iavs[p])\n",
    "    \n",
    "ct_table = pd.DataFrame({'param':pvals,'mean':ct0,'iav':ct1})\n",
    "ct_table.to_html(buf='top20_summary.html')"
   ]
  },
  {
   "cell_type": "code",
   "execution_count": null,
   "id": "69e38d35-b085-481b-b97e-f481493d3382",
   "metadata": {},
   "outputs": [],
   "source": []
  },
  {
   "cell_type": "code",
   "execution_count": null,
   "id": "edfea212-a46b-4c2c-be0b-a216f7591d1c",
   "metadata": {},
   "outputs": [],
   "source": [
    "## make a summary table\n",
    "nx = 20\n",
    "ctmeans = dict()\n",
    "ctiavs  = dict()\n",
    "\n",
    "for datavar in data_vars:\n",
    "    print(datavar)\n",
    "    cf      = cfs[datavar]\n",
    "\n",
    "    xmeans,xiavs,xann = param_effect(ds,datavar,cf,uniques,da=[])\n",
    "\n",
    "    topx,pvals = top_n(xmeans,uniques,nx)\n",
    "    for p in pvals:\n",
    "        if p not in ctmeans:\n",
    "            ctmeans[p]=1\n",
    "        else:\n",
    "            ctmeans[p]=1+ctmeans[p]\n",
    "\n",
    "    topx,pvals = top_n(xiavs,uniques,nx)\n",
    "    for p in pvals:\n",
    "        if p not in ctiavs:\n",
    "            ctiavs[p]=1\n",
    "        else:\n",
    "            ctiavs[p]=1+ctiavs[p]\n",
    "\n"
   ]
  },
  {
   "cell_type": "code",
   "execution_count": 50,
   "id": "87444789-c7d8-4672-bee9-9458ce57a015",
   "metadata": {},
   "outputs": [],
   "source": [
    "cts = ctmeans.copy()\n",
    "for p in ctiavs:\n",
    "    if p not in cts:\n",
    "        cts[p]=ctiavs[p]\n",
    "    else:\n",
    "        cts[p]=cts[p]+ctiavs[p]"
   ]
  },
  {
   "cell_type": "code",
   "execution_count": 56,
   "id": "41bfb01a-34b1-4348-9489-7a454afed213",
   "metadata": {},
   "outputs": [],
   "source": [
    "ctsort = np.flipud(sorted(cts.items(), key=lambda item: item[1]))"
   ]
  },
  {
   "cell_type": "code",
   "execution_count": 165,
   "id": "688ab651-3ef1-4f62-8491-0234fd2d7d4c",
   "metadata": {},
   "outputs": [
    {
     "data": {
      "text/plain": [
       "0"
      ]
     },
     "execution_count": 165,
     "metadata": {},
     "output_type": "execute_result"
    }
   ],
   "source": [
    "x=[]\n",
    "len(x)"
   ]
  },
  {
   "cell_type": "markdown",
   "id": "42d2c769-8ffd-4d8c-8221-062aa84942b9",
   "metadata": {
    "tags": []
   },
   "source": [
    "## coupling index"
   ]
  },
  {
   "cell_type": "code",
   "execution_count": 58,
   "id": "9f840c3a-83dc-4030-b131-a3daba8c76c6",
   "metadata": {},
   "outputs": [],
   "source": [
    "tape='h5'\n",
    "data_vars = ['SOILWATER_10CM','FSH']\n",
    "dsd = get_ensemble('CTL2010',data_vars,tape,keys,paramkey)"
   ]
  },
  {
   "cell_type": "code",
   "execution_count": 60,
   "id": "990f58e6-a2e9-4fda-a131-93fe98770c0f",
   "metadata": {},
   "outputs": [],
   "source": [
    "#skip the first timestep and reindex\n",
    "t=np.arange(3651)\n",
    "dsd = dsd.shift(time=-1).sel(time=t<3650)"
   ]
  },
  {
   "cell_type": "code",
   "execution_count": 63,
   "id": "7ecdf19e-e2bf-41ef-9115-3dd1c8618c1f",
   "metadata": {},
   "outputs": [
    {
     "name": "stderr",
     "output_type": "stream",
     "text": [
      "/glade/work/djk2120/miniconda3/envs/lens-py/lib/python3.7/site-packages/xarray/core/indexing.py:1369: PerformanceWarning: Slicing with an out-of-order index is generating 11 times more chunks\n",
      "  return self.array[key]\n",
      "/glade/work/djk2120/miniconda3/envs/lens-py/lib/python3.7/site-packages/xarray/core/indexing.py:1369: PerformanceWarning: Slicing with an out-of-order index is generating 11 times more chunks\n",
      "  return self.array[key]\n"
     ]
    }
   ],
   "source": [
    "x = ds.SOILWATER_10CM.groupby('time.season')\n",
    "y = ds.FSH.groupby('time.season')\n",
    "cv0 = (x-x.mean())*(y-y.mean())\n",
    "cv  = cv0.groupby('time.season').sum()/x.count()\n",
    "couplingIndex = (cv/x.std()).compute()"
   ]
  },
  {
   "cell_type": "code",
   "execution_count": 71,
   "id": "59df3827-fd09-401d-803f-37d17080f736",
   "metadata": {},
   "outputs": [],
   "source": [
    "hot_area = (la*(couplingIndex<-10)).sum(dim='gridcell')\n",
    "rel_area = hot_area/hot_area[0,:]"
   ]
  },
  {
   "cell_type": "code",
   "execution_count": 95,
   "id": "78e6a8c5-c8cc-499d-b924-791d86aa61c5",
   "metadata": {},
   "outputs": [
    {
     "data": {
      "image/png": "[encoded data removed]",
      "text/plain": [
       "<Figure size 576x1152 with 4 Axes>"
      ]
     },
     "metadata": {
      "needs_background": "light"
     },
     "output_type": "display_data"
    }
   ],
   "source": [
    "unit = 'relative hotspot area'\n",
    "ln1  = 'Terrestrial coupling hotspot area'\n",
    "ln2  = 'area where TCI<-10W/m2 relative to the default model area'\n",
    "plt.figure(figsize=[8,16])\n",
    "for i,seas in zip(range(4),rel_area.season):\n",
    "    sstr = str(seas.values)\n",
    "    xmeans  = []\n",
    "    for u in uniques:\n",
    "        pair  = find_pair(rel_area.sel(season=seas),ds.param,ds.minmax,u)\n",
    "        xmeans.append(pair.values)\n",
    "\n",
    "    dmeans = [abs(xmean[0]-xmean[1]) for xmean in xmeans]\n",
    "    ranks = np.argsort(dmeans)\n",
    "    xdef = rel_area.sel(season=seas).isel(ens=0)\n",
    "\n",
    "    plt.subplot(2,2,i+1)\n",
    "    plot20(xmeans,ranks,xdef,'LAC',sstr,unit)\n",
    "\n",
    "plt.subplots_adjust(wspace=0.8)\n",
    "plt.subplots_adjust(left=0.22) \n",
    "plt.figtext(0.562,0.925,ln1,fontsize=12,ha='center')\n",
    "plt.figtext(0.562,0.91, ln2,fontsize=12,ha='center')\n",
    "plt.savefig('../figs/LAcoupling_top20.pdf')"
   ]
  },
  {
   "cell_type": "markdown",
   "id": "92eb3c9b-155e-4ddc-b7f6-5e14f20b0db6",
   "metadata": {},
   "source": [
    "## C285"
   ]
  },
  {
   "cell_type": "code",
   "execution_count": 139,
   "id": "ede09367-c36f-456d-8b46-0af36a8c8abc",
   "metadata": {},
   "outputs": [],
   "source": [
    "ds2 = get_ensemble('C285',data_vars,'h0',keys,paramkey)"
   ]
  },
  {
   "cell_type": "code",
   "execution_count": 140,
   "id": "f72e9786-b085-4bda-801a-31893edaa0c9",
   "metadata": {},
   "outputs": [],
   "source": [
    "datavar = 'GPP'\n",
    "xm_ctl,xa = calc_mean(ds,datavar)\n",
    "xm_285,xa = calc_mean(ds2,datavar)"
   ]
  },
  {
   "cell_type": "code",
   "execution_count": 182,
   "id": "3c5000f3-f995-4769-91d0-7ee50aafa35e",
   "metadata": {},
   "outputs": [],
   "source": [
    "dxs   =[]\n",
    "ferts =[]\n",
    "for u in uniques:\n",
    "    pair1 = find_pair(xm_ctl,ds.param,ds.minmax,u).values\n",
    "    pair2 = find_pair(xm_285,ds.param,ds.minmax,u).values\n",
    "    \n",
    "    co2fert_lo = pair1[0]/pair2[0]\n",
    "    co2fert_hi = pair1[1]/pair2[1]\n",
    "    \n",
    "    dx = abs(co2fert_hi-co2fert_lo)\n",
    "    \n",
    "    ferts.append([co2fert_lo,co2fert_hi])\n",
    "    dxs.append(dx)"
   ]
  },
  {
   "cell_type": "code",
   "execution_count": 209,
   "id": "212e8b52-0540-47b6-b8ad-2e4077fcbd66",
   "metadata": {},
   "outputs": [
    {
     "data": {
      "image/png": "[encoded data removed]",
      "text/plain": [
       "<Figure size 432x576 with 1 Axes>"
      ]
     },
     "metadata": {
      "needs_background": "light"
     },
     "output_type": "display_data"
    }
   ],
   "source": [
    "ranks = np.argsort(dxs)\n",
    "pvals = [uniques[ranks[i]] for i in range(-20,0,1)]\n",
    "xmins = [ferts[ranks[i]][0] for i in range(-20,0,1)]\n",
    "xmaxs = [ferts[ranks[i]][1] for i in range(-20,0,1)]\n",
    "\n",
    "plt.figure(figsize=[6,8])\n",
    "fert_def = xm_ctl.isel(ens=0)/xm_285.isel(ens=0)\n",
    "plt.plot([fert_def,fert_def],[-1,-20],'k:')\n",
    "plt.scatter(xmins,range(-20,0,1),marker='o',facecolors='none', edgecolors='r',label='param-lo')\n",
    "plt.plot(xmaxs,range(-20,0,1),'ro',label='param-hi')\n",
    "plt.legend()\n",
    "for i in range(-20,0,1):\n",
    "    ix = ranks[i]\n",
    "    fert = ferts[ix]\n",
    "    plt.plot(fert,[i,i],'-r')\n",
    "\n",
    "plt.yticks(range(-20,0,1),pvals);\n",
    "plt.xlabel('GPP_ctl / GPP_c285 (-)')\n",
    "plt.title('CO2 effect on GPP (CTL/C285)');\n"
   ]
  },
  {
   "cell_type": "markdown",
   "id": "6bc7dfa8-e14c-4fe6-9206-29478987bd03",
   "metadata": {
    "tags": []
   },
   "source": [
    "### notes\n",
    " - run the sand_pf, clay_pf\n",
    " - add pools to metric list\n",
    " \n",
    " \n",
    " - normalize by IAV for env ctrls\n",
    " - normalize by IAV for ctrl?\n",
    " \n",
    " \n",
    " - ecoregion?\n",
    " - seasonal cycle?\n",
    " \n",
    " - make a pdf summarizing the parameter effects"
   ]
  },
  {
   "cell_type": "code",
   "execution_count": null,
   "id": "28b2dac1-7864-4a68-96bb-18f130506851",
   "metadata": {},
   "outputs": [],
   "source": [
    "((gpp_medhi_ctl - gpp_medhi_c285) - (gpp_medlo_ctl - gpp_mdlo_c285)) / IAV_ctl"
   ]
  },
  {
   "cell_type": "markdown",
   "id": "59767aa3-4084-431b-9135-12f2ec9931d3",
   "metadata": {},
   "source": [
    "## deprecated (for now)"
   ]
  },
  {
   "cell_type": "code",
   "execution_count": null,
   "id": "14d977b6-0077-4a7d-9e63-8355c94202e2",
   "metadata": {},
   "outputs": [],
   "source": [
    "def param_effect(pair):\n",
    "    delt  = pair.isel(ens=0)-pair.isel(ens=1)\n",
    "    sigma = np.std(delt.mean(dim='year'))\n",
    "    if sigma>0:\n",
    "        pe_mean = abs((la*delt).sum(dim='gridcell').mean(dim='year').values)\n",
    "        iav     = (la*pair).sum(dim='gridcell').std(dim='year').values\n",
    "        pe_iav  = abs(iav[0]-iav[1])\n",
    "    else:\n",
    "        pe_mean = 0\n",
    "        pe_iav  = 0\n",
    "\n",
    "    \n",
    "    return pe_mean,pe_iav\n",
    "def spatial(da,params,uniques):\n",
    "    #lower scores have more distinct spatial signature\n",
    "    nx = len(uniques)\n",
    "    \n",
    "    #calculate delta annual mean for each param-pair\n",
    "    delts = np.ndarray([nx,400])\n",
    "    for i,u in zip(range(nx),uniques):\n",
    "        pair = find_pair(da,params,u).mean(dim='year')\n",
    "        delt = pair.isel(ens=0) - pair.isel(ens=1)\n",
    "        delts[i,:] = delt\n",
    "        \n",
    "    #calculate cross-correlations\n",
    "    #  skip calc if sigma==0\n",
    "    sigs = np.std(delts,axis=1)\n",
    "    rvals = np.zeros([nx,nx])\n",
    "    for i in range(nx):\n",
    "        if sigs[i]==0:\n",
    "            rvals[i,:]=1\n",
    "        else:\n",
    "            for j in range(i,nx,1):\n",
    "                if sigs[j]==0:\n",
    "                    rvals[i,j] = 1\n",
    "                elif i==j:\n",
    "                    rvals[i,j] = 1\n",
    "                else:\n",
    "                    x=delts[[i,j],:]\n",
    "                    r2= np.corrcoef(x)[0,1]**2\n",
    "                    rvals[i,j] =r2\n",
    "                    rvals[j,i] =r2\n",
    "                    \n",
    "    return rvals.sum(axis=0)"
   ]
  },
  {
   "cell_type": "code",
   "execution_count": 258,
   "id": "30a8856e-06d3-4e96-9626-c5b39b428b53",
   "metadata": {},
   "outputs": [],
   "source": [
    "#choose your subset of variables\n",
    "data_vars = ['GPP','AR','HR','EFLX_LH_TOT','FCTR','FAREA_BURNED',\n",
    "             'TWS','SOILWATER_10CM','SNOWDP','TV','TSOI_10CM','TLAI','FSR']\n",
    "keys = paramkey.key\n",
    "#read in the dataset\n",
    "c285 = get_ensemble('C285',data_vars,'h0',keys,paramkey)"
   ]
  },
  {
   "cell_type": "code",
   "execution_count": 263,
   "id": "788b7aa0-14a1-4a94-9368-7392168b14dd",
   "metadata": {},
   "outputs": [],
   "source": [
    "datavar = 'GPP'\n",
    "s4 = []\n",
    "da1 = (month_wts(10)*c285[datavar]).groupby('time.year').sum().compute()\n",
    "da2 = (month_wts(10)*ds[datavar]).groupby('time.year').sum().compute()"
   ]
  },
  {
   "cell_type": "code",
   "execution_count": 277,
   "id": "3f860c53-424a-4442-b426-92b09c4bb6de",
   "metadata": {},
   "outputs": [],
   "source": [
    "s4=[]\n",
    "for u in uniques:\n",
    "\n",
    "    pair1 = find_pair(da1,ds.param,u)\n",
    "    pair2 = find_pair(da2,ds.param,u)\n",
    "\n",
    "    x1=(la*pair1).sum(dim='gridcell').mean(dim='year')\n",
    "    x2=(la*pair2).sum(dim='gridcell').mean(dim='year')\n",
    "    fx = (x1/x2).values\n",
    "    dx = abs(fx[1]-fx[0])\n",
    "\n",
    "    s4.append(dx)"
   ]
  },
  {
   "cell_type": "code",
   "execution_count": 280,
   "id": "fc57b2f4-0da9-4219-b271-e2b5703f557f",
   "metadata": {},
   "outputs": [
    {
     "name": "stdout",
     "output_type": "stream",
     "text": [
      "lmrhd\n",
      "vcmaxha\n",
      "wc2wjb0\n",
      "medlynintercept\n",
      "jmaxb0\n"
     ]
    }
   ],
   "source": [
    "ranks = np.argsort(s4)\n",
    "for i in ranks[-5:]:\n",
    "    u = uniques[i]\n",
    "    print(u)"
   ]
  }
 ],
 "metadata": {
  "kernelspec": {
   "display_name": "Python [conda env:miniconda3-lens-py]",
   "language": "python",
   "name": "conda-env-miniconda3-lens-py-py"
  },
  "language_info": {
   "codemirror_mode": {
    "name": "ipython",
    "version": 3
   },
   "file_extension": ".py",
   "mimetype": "text/x-python",
   "name": "python",
   "nbconvert_exporter": "python",
   "pygments_lexer": "ipython3",
   "version": "3.7.9"
  }
 },
 "nbformat": 4,
 "nbformat_minor": 5
}
